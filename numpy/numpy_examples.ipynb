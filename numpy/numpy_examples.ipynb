{
 "cells": [
  {
   "cell_type": "markdown",
   "metadata": {},
   "source": [
    "## Example 1: Matrix Operations with 2D Arrays\n",
    "\n",
    "This cell demonstrates creating a 2D array, computing its transpose, and performing matrix multiplication."
   ]
  },
  {
   "cell_type": "code",
   "metadata": {
    "ExecuteTime": {
     "end_time": "2025-03-04T21:42:41.577255Z",
     "start_time": "2025-03-04T21:42:41.574714Z"
    }
   },
   "source": [
    "import numpy as np\n",
    "\n",
    "# Creating a 2D array (matrix)\n",
    "matrix = np.array([[1, 2, 3],\n",
    "                   [4, 5, 6]])\n",
    "\n",
    "# Transposing the matrix\n",
    "matrix_T = matrix.T\n",
    "print(\"Transposed Matrix:\")\n",
    "print(matrix_T)"
   ],
   "outputs": [
    {
     "name": "stdout",
     "output_type": "stream",
     "text": [
      "Transposed Matrix:\n",
      "[[1 4]\n",
      " [2 5]\n",
      " [3 6]]\n"
     ]
    }
   ],
   "execution_count": 6
  },
  {
   "metadata": {
    "ExecuteTime": {
     "end_time": "2025-03-04T21:42:42.956061Z",
     "start_time": "2025-03-04T21:42:42.952636Z"
    }
   },
   "cell_type": "code",
   "source": [
    "# Performing matrix multiplication (dot product)\n",
    "result = np.dot(matrix, matrix_T)\n",
    "print(\"\\nMatrix multiplied by its transpose:\")\n",
    "print(result)"
   ],
   "outputs": [
    {
     "name": "stdout",
     "output_type": "stream",
     "text": [
      "\n",
      "Matrix multiplied by its transpose:\n",
      "[[14 32]\n",
      " [32 77]]\n"
     ]
    }
   ],
   "execution_count": 7
  },
  {
   "cell_type": "markdown",
   "metadata": {},
   "source": [
    "## Example 2: Data Filtering and Slicing in 2D Arrays\n",
    "\n",
    "This example shows how to slice and filter rows and columns from a 2D array representing a dataset."
   ]
  },
  {
   "cell_type": "code",
   "metadata": {
    "ExecuteTime": {
     "end_time": "2025-03-04T21:42:46.173658Z",
     "start_time": "2025-03-04T21:42:46.169911Z"
    }
   },
   "source": [
    "import numpy as np\n",
    "\n",
    "# Simulate a dataset: rows represent samples and columns represent features\n",
    "data = np.array([[23, 67, 89],\n",
    "                 [45, 56, 78],\n",
    "                 [34, 88, 92],\n",
    "                 [56, 73, 85]])"
   ],
   "outputs": [],
   "execution_count": 8
  },
  {
   "metadata": {
    "ExecuteTime": {
     "end_time": "2025-03-04T21:42:46.812485Z",
     "start_time": "2025-03-04T21:42:46.809301Z"
    }
   },
   "cell_type": "code",
   "source": [
    "# Extracting the first two rows and the last two columns\n",
    "subset = data[:2, 1:]\n",
    "print(\"Subset of the data:\")\n",
    "print(subset)"
   ],
   "outputs": [
    {
     "name": "stdout",
     "output_type": "stream",
     "text": [
      "Subset of the data:\n",
      "[[67 89]\n",
      " [56 78]]\n"
     ]
    }
   ],
   "execution_count": 9
  },
  {
   "metadata": {},
   "cell_type": "markdown",
   "source": [
    "## Example 3: Image Representation and Processing with 2D Arrays\n",
    "\n",
    "Here we represent a grayscale image as a 2D array and perform a simple inversion of the image."
   ]
  },
  {
   "cell_type": "code",
   "metadata": {
    "ExecuteTime": {
     "end_time": "2025-03-04T21:42:53.997805Z",
     "start_time": "2025-03-04T21:42:53.995376Z"
    }
   },
   "source": [
    "import numpy as np\n",
    "\n",
    "# Create a mock 5x5 grayscale image (values range from 0 to 255)\n",
    "image = np.array([[ 10,  50,  80,  50,  10],\n",
    "                  [ 20,  60,  90,  60,  20],\n",
    "                  [ 30,  70, 100,  70,  30],\n",
    "                  [ 20,  60,  90,  60,  20],\n",
    "                  [ 10,  50,  80,  50,  10]])"
   ],
   "outputs": [],
   "execution_count": 10
  },
  {
   "metadata": {
    "ExecuteTime": {
     "end_time": "2025-03-04T21:42:56.281879Z",
     "start_time": "2025-03-04T21:42:56.278797Z"
    }
   },
   "cell_type": "code",
   "source": [
    "# Simple image inversion\n",
    "inverted_image = 255 - image\n",
    "print(\"Original Image:\")\n",
    "print(image)\n",
    "print(\"\\nInverted Image:\")\n",
    "print(inverted_image)"
   ],
   "outputs": [
    {
     "name": "stdout",
     "output_type": "stream",
     "text": [
      "Original Image:\n",
      "[[ 10  50  80  50  10]\n",
      " [ 20  60  90  60  20]\n",
      " [ 30  70 100  70  30]\n",
      " [ 20  60  90  60  20]\n",
      " [ 10  50  80  50  10]]\n",
      "\n",
      "Inverted Image:\n",
      "[[245 205 175 205 245]\n",
      " [235 195 165 195 235]\n",
      " [225 185 155 185 225]\n",
      " [235 195 165 195 235]\n",
      " [245 205 175 205 245]]\n"
     ]
    }
   ],
   "execution_count": 11
  },
  {
   "metadata": {},
   "cell_type": "markdown",
   "source": [
    "## Example 4: Simulating a 3D Environment with 3D Arrays\n",
    "\n",
    "This cell illustrates how to create a 3D array representing a grid and extract a 2D slice from it."
   ]
  },
  {
   "cell_type": "code",
   "metadata": {
    "ExecuteTime": {
     "end_time": "2025-03-04T21:43:13.716004Z",
     "start_time": "2025-03-04T21:43:13.712809Z"
    }
   },
   "source": [
    "import numpy as np\n",
    "\n",
    "# Creating a 3D array to represent a 3x3x3 grid\n",
    "grid = np.arange(27).reshape(3, 3, 3)\n",
    "print(\"3D Grid:\")\n",
    "print(grid)"
   ],
   "outputs": [
    {
     "name": "stdout",
     "output_type": "stream",
     "text": [
      "3D Grid:\n",
      "[[[ 0  1  2]\n",
      "  [ 3  4  5]\n",
      "  [ 6  7  8]]\n",
      "\n",
      " [[ 9 10 11]\n",
      "  [12 13 14]\n",
      "  [15 16 17]]\n",
      "\n",
      " [[18 19 20]\n",
      "  [21 22 23]\n",
      "  [24 25 26]]]\n"
     ]
    }
   ],
   "execution_count": 12
  },
  {
   "metadata": {
    "ExecuteTime": {
     "end_time": "2025-03-04T21:43:14.512949Z",
     "start_time": "2025-03-04T21:43:14.509118Z"
    }
   },
   "cell_type": "code",
   "source": [
    "# Extracting a 2D slice (e.g., the second \"layer\" of the grid)\n",
    "slice_2d = grid[1, :, :]\n",
    "print(\"\\n2D Slice from the 3D Grid:\")\n",
    "print(slice_2d)"
   ],
   "outputs": [
    {
     "name": "stdout",
     "output_type": "stream",
     "text": [
      "\n",
      "2D Slice from the 3D Grid:\n",
      "[[ 9 10 11]\n",
      " [12 13 14]\n",
      " [15 16 17]]\n"
     ]
    }
   ],
   "execution_count": 13
  },
  {
   "metadata": {},
   "cell_type": "markdown",
   "source": [
    "## Example 5: Handling Multi-Channel Data with 3D Arrays\n",
    "\n",
    "This example shows how to create a 3D array for a RGB image and convert it to grayscale using a weighted sum."
   ]
  },
  {
   "metadata": {
    "ExecuteTime": {
     "end_time": "2025-03-04T21:43:17.659131Z",
     "start_time": "2025-03-04T21:43:17.654811Z"
    }
   },
   "cell_type": "code",
   "source": [
    "import numpy as np\n",
    "\n",
    "# Create a 3D array representing a 4x4 RGB image\n",
    "rgb_image = np.random.randint(0, 256, size=(4, 4, 3))\n",
    "print(\"RGB Image:\")\n",
    "print(rgb_image)"
   ],
   "outputs": [
    {
     "name": "stdout",
     "output_type": "stream",
     "text": [
      "RGB Image:\n",
      "[[[166 224 161]\n",
      "  [241  75   0]\n",
      "  [231  27  21]\n",
      "  [236  12 132]]\n",
      "\n",
      " [[130  78 208]\n",
      "  [ 23  64 202]\n",
      "  [ 80 152  71]\n",
      "  [173 161 168]]\n",
      "\n",
      " [[200  23  44]\n",
      "  [208  31 151]\n",
      "  [157  91 136]\n",
      "  [ 21 240 206]]\n",
      "\n",
      " [[ 60  84  94]\n",
      "  [ 53 185  77]\n",
      "  [ 79 118  88]\n",
      "  [216 135  94]]]\n"
     ]
    }
   ],
   "execution_count": 14
  },
  {
   "metadata": {
    "ExecuteTime": {
     "end_time": "2025-03-04T21:43:19.020323Z",
     "start_time": "2025-03-04T21:43:19.015720Z"
    }
   },
   "cell_type": "code",
   "source": [
    "# Convert the image to grayscale using a weighted sum of the RGB channels\n",
    "grayscale_image = np.dot(rgb_image[...,:3], [0.2989, 0.5870, 0.1140])\n",
    "print(\"\\nConverted Grayscale Image:\")\n",
    "print(grayscale_image)"
   ],
   "outputs": [
    {
     "name": "stdout",
     "output_type": "stream",
     "text": [
      "\n",
      "Converted Grayscale Image:\n",
      "[[199.4594 116.0599  87.2889  92.6324]\n",
      " [108.355   67.4707 121.23   165.3687]\n",
      " [ 78.297   97.5822 115.8483 170.6409]\n",
      " [ 77.958  133.2147 102.9111 154.5234]]\n"
     ]
    }
   ],
   "execution_count": 15
  },
  {
   "metadata": {},
   "cell_type": "code",
   "source": "",
   "outputs": [],
   "execution_count": null
  },
  {
   "metadata": {},
   "cell_type": "code",
   "source": "",
   "outputs": [],
   "execution_count": null
  }
 ],
 "metadata": {
  "kernelspec": {
   "display_name": "Python 3",
   "language": "python",
   "name": "python3"
  },
  "language_info": {
   "file_extension": ".py",
   "mimetype": "text/x-python",
   "name": "python",
   "version": "3.x"
  }
 },
 "nbformat": 4,
 "nbformat_minor": 2
}
